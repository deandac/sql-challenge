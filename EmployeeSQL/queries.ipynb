{
 "cells": [
  {
   "cell_type": "code",
   "execution_count": null,
   "metadata": {},
   "outputs": [],
   "source": [
    "-- Salary by Employee\n",
    "SELECT  emp.emp_no,\n",
    "        emp.last_name,\n",
    "        emp.first_name,\n",
    "        emp.sex,\n",
    "        sal.salary\n",
    "FROM employees as emp\n",
    "LEFT JOIN salaries as sal\n",
    "ON (emp.emp_no = sal.emp_no)\n",
    "ORDER BY emp.emp_no;"
   ]
  },
  {
   "cell_type": "code",
   "execution_count": null,
   "metadata": {},
   "outputs": [],
   "source": [
    "-- Employees hired in 1986\n",
    "SELECT first_name, last_name, hire_date\n",
    "FROM employees\n",
    "WHERE hire_date BETWEEN '1986-01-01' AND '1986-12-31';"
   ]
  },
  {
   "cell_type": "code",
   "execution_count": null,
   "metadata": {},
   "outputs": [],
   "source": [
    "-- Department managers\n",
    "SELECT\n",
    "\td.dept_no AS department_number,\n",
    "\td.dept_name AS department_name,\n",
    "\tdm.emp_no AS manager_employee_number,\n",
    "\te.last_name AS manager_last_name,\n",
    "\te.first_name AS manager_first_name\n",
    "FROM\n",
    "\tdepartments AS d\n",
    "JOIN\n",
    "\tdept_manager AS dm ON d.dept_no = dm.dept_no\n",
    "JOIN\n",
    "\temployees AS e ON dm.emp_no = e.emp_no;"
   ]
  },
  {
   "cell_type": "code",
   "execution_count": null,
   "metadata": {},
   "outputs": [],
   "source": [
    "-- Department information for each employee\n",
    "SELECT\n",
    "\te.emp_no AS employee_number,\n",
    "\te.last_name,\n",
    "\te.first_name,\n",
    "\tde.dept_no AS department_number,\n",
    "\td.dept_name AS department_name\n",
    "FROM\n",
    "\temployees AS e\n",
    "JOIN\n",
    "\tdept_emp AS de ON e.emp_no = de.emp_no\n",
    "JOIN\n",
    "\tdepartments AS d ON de.dept_no = d.dept_no;"
   ]
  },
  {
   "cell_type": "code",
   "execution_count": null,
   "metadata": {},
   "outputs": [],
   "source": [
    "-- Employee with first name Hercules and last name starts with \"B\"\n",
    "SELECT\n",
    "\tfirst_name,\n",
    "\tlast_name,\n",
    "\tsex\n",
    "FROM\n",
    "\temployees\n",
    "WHERE\n",
    "\tfirst_name = 'Hercules'\n",
    "\tAND last_name LIKE 'B%';"
   ]
  },
  {
   "cell_type": "code",
   "execution_count": null,
   "metadata": {},
   "outputs": [],
   "source": [
    "-- Sales Department\n",
    "SELECT\n",
    "\te.emp_no AS employee_number,\n",
    "\te.last_name,\n",
    "\te.first_name\n",
    "FROM\n",
    "\temployees AS e\n",
    "JOIN\n",
    "\tdept_emp AS de ON e.emp_no = de.emp_no\n",
    "JOIN\n",
    "\tdepartments AS d ON de.dept_no = d.dept_no\n",
    "WHERE\n",
    "\td.dept_name = 'Sales';"
   ]
  },
  {
   "cell_type": "code",
   "execution_count": null,
   "metadata": {},
   "outputs": [],
   "source": [
    "-- Sales and Development Departments\n",
    "SELECT\n",
    "\te.emp_no AS employee_number,\n",
    "\te.last_name,\n",
    "\te.first_name,\n",
    "\td.dept_name AS department_name\n",
    "FROM\n",
    "\temployees AS e\n",
    "JOIN\n",
    "\tdept_emp AS de ON e.emp_no = de.emp_no\n",
    "JOIN\n",
    "\tdepartments AS d ON de.dept_no = d.dept_no\n",
    "WHERE\n",
    "\td.dept_name IN ('Sales', 'Development');"
   ]
  },
  {
   "cell_type": "code",
   "execution_count": null,
   "metadata": {},
   "outputs": [],
   "source": [
    "-- employee last name frequency\n",
    "SELECT\n",
    "\tlast_name,\n",
    "\tCOUNT(*) AS frequency\n",
    "FROM\n",
    "\temployees\n",
    "GROUP BY\n",
    "\tlast_name\n",
    "ORDER BY\n",
    "\tfrequency DESC, last_name;"
   ]
  }
 ],
 "metadata": {
  "language_info": {
   "name": "python"
  },
  "orig_nbformat": 4
 },
 "nbformat": 4,
 "nbformat_minor": 2
}
